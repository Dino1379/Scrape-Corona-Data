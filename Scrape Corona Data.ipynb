{
 "cells": [
  {
   "cell_type": "code",
   "execution_count": null,
   "id": "9dae65f8",
   "metadata": {},
   "outputs": [],
   "source": [
    "import requests\n",
    "from bs4 import BeautifulSoup"
   ]
  },
  {
   "cell_type": "code",
   "execution_count": null,
   "id": "30d8b85a",
   "metadata": {},
   "outputs": [],
   "source": [
    "url = 'https://www.ndtv.com/coronavirus/india-covid-19-tracker'"
   ]
  },
  {
   "cell_type": "code",
   "execution_count": null,
   "id": "64c2eed7",
   "metadata": {},
   "outputs": [],
   "source": [
    "def scrape_data(url):\n",
    "    response = requests.get(url)\n",
    "    soup = BeautifulSoup(response.text, 'html.parser')"
   ]
  },
  {
   "cell_type": "code",
   "execution_count": null,
   "id": "e79d4f3b",
   "metadata": {},
   "outputs": [],
   "source": [
    "links = soup.find_all(\"h1\")"
   ]
  },
  {
   "cell_type": "code",
   "execution_count": null,
   "id": "e310cdf3",
   "metadata": {},
   "outputs": [],
   "source": [
    "import matplotlib.pyplot as plt\n",
    "plt.figure(figsize=(10, 6))\n",
    "plt.bar(states, deaths, label='Deaths')\n",
    "plt.bar(states, recovered, label='Recovered')\n",
    "plt.bar(states, active, label='Active')\n",
    "plt.xlabel('States')\n",
    "plt.ylabel('Number of Cases')\n",
    "plt.title('COVID-19 Cases in India')\n",
    "plt.legend()\n",
    "plt.xticks(rotation=90)\n",
    "plt.show()"
   ]
  }
 ],
 "metadata": {
  "kernelspec": {
   "display_name": "Python 3 (ipykernel)",
   "language": "python",
   "name": "python3"
  },
  "language_info": {
   "codemirror_mode": {
    "name": "ipython",
    "version": 3
   },
   "file_extension": ".py",
   "mimetype": "text/x-python",
   "name": "python",
   "nbconvert_exporter": "python",
   "pygments_lexer": "ipython3",
   "version": "3.9.12"
  }
 },
 "nbformat": 4,
 "nbformat_minor": 5
}
